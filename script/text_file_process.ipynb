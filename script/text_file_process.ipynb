{
 "cells": [
  {
   "cell_type": "code",
   "execution_count": 1,
   "metadata": {
    "collapsed": true
   },
   "outputs": [],
   "source": [
    "import jieba\n",
    "import jieba.posseg as pseg\n",
    "import os"
   ]
  },
  {
   "cell_type": "code",
   "execution_count": 2,
   "metadata": {
    "collapsed": true
   },
   "outputs": [],
   "source": [
    "data_dir = 'sougou'"
   ]
  },
  {
   "cell_type": "code",
   "execution_count": 3,
   "metadata": {
    "collapsed": true
   },
   "outputs": [],
   "source": [
    "def read_file(filename):\n",
    "\n",
    "    contents = []\n",
    "    try:\n",
    "        file = open(filename, 'r', encoding='gbk').readlines()\n",
    "    except:\n",
    "        return contents\n",
    "\n",
    "    flag_list = ['t', 'q', 'p', 'u', 'e', 'y', 'o', 'w', 'm', 'x', 'un']\n",
    "\n",
    "    for line in file:\n",
    "        words_list = []\n",
    "        try:\n",
    "            content = line.strip()\n",
    "            words = pseg.cut(content)\n",
    "            for w in words:\n",
    "                flag = w.flag\n",
    "                word = w.word\n",
    "\n",
    "                if (flag not in flag_list) and (word[0]>=u'/u4e00') and (word[0]<=u'\\u9fa5'):\n",
    "                    words_list.append(word)\n",
    "        except:\n",
    "            print('Error,WrongFile')\n",
    "            break\n",
    "        #contents.extend(words_list)\n",
    "        contents.extend(words_list)\n",
    "    return contents"
   ]
  },
  {
   "cell_type": "code",
   "execution_count": 4,
   "metadata": {},
   "outputs": [
    {
     "name": "stderr",
     "output_type": "stream",
     "text": [
      "Building prefix dict from the default dictionary ...\n",
      "Loading model from cache /tmp/jieba.cache\n",
      "Loading model cost 0.831 seconds.\n",
      "Prefix dict has been built succesfully.\n"
     ]
    },
    {
     "name": "stdout",
     "output_type": "stream",
     "text": [
      "财经completed\n",
      "\n",
      "体育completed\n",
      "\n",
      "教育completed\n",
      "\n",
      "ITcompleted\n",
      "\n",
      "健康completed\n",
      "\n",
      "文化completed\n",
      "\n",
      "招聘completed\n",
      "\n",
      "旅游completed\n",
      "\n",
      "军事completed\n",
      "\n"
     ]
    }
   ],
   "source": [
    "output_file = open('output', 'w')\n",
    "labels = os.listdir(data_dir)\n",
    "for label in labels:\n",
    "    data_path = os.path.join(data_dir, label)\n",
    "    for file in os.listdir(data_path):\n",
    "        file_name = os.path.join(data_path, file)\n",
    "        contents = read_file(file_name)\n",
    "        if contents == []:\n",
    "            continue\n",
    "        contents = ' '.join(contents)\n",
    "        contents = contents + ' ' + '#' + label\n",
    "        output_file.write(contents)\n",
    "        output_file.write('\\n')\n",
    "    print(label + 'completed' + '\\n')\n",
    "output_file.close() "
   ]
  },
  {
   "cell_type": "code",
   "execution_count": null,
   "metadata": {
    "collapsed": true
   },
   "outputs": [],
   "source": []
  }
 ],
 "metadata": {
  "kernelspec": {
   "display_name": "Python 3",
   "language": "python",
   "name": "python3"
  },
  "language_info": {
   "codemirror_mode": {
    "name": "ipython",
    "version": 3
   },
   "file_extension": ".py",
   "mimetype": "text/x-python",
   "name": "python",
   "nbconvert_exporter": "python",
   "pygments_lexer": "ipython3",
   "version": "3.6.1"
  }
 },
 "nbformat": 4,
 "nbformat_minor": 2
}
